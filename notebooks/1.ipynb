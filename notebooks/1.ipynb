{
 "cells": [
  {
   "cell_type": "code",
   "execution_count": null,
   "id": "a889e44a",
   "metadata": {},
   "outputs": [],
   "source": [
    "!pip install mysql-connector-python\n"
   ]
  },
  {
   "cell_type": "code",
   "execution_count": null,
   "id": "797bbfff",
   "metadata": {},
   "outputs": [],
   "source": [
    "import mysql.connector as connection\n",
    "import pandas as pd\n",
    "\n",
    "pd.set_option('display.max_rows', 500)\n",
    "\n",
    "try:\n",
    "    mydb = connection.connect(host=\"database\", database = 'test_db',user=\"myuser\", passwd=\"mypass\",use_pure=True)\n",
    "\n",
    "    links_df = pd.read_sql(\"select * from links;\",mydb)\n",
    "    movies_df = pd.read_sql(\"select * from movies;\",mydb)\n",
    "    ratings_df = pd.read_sql(\"select * from ratings;\",mydb)\n",
    "    tags_df = pd.read_sql(\"select * from tags;\",mydb)\n",
    "        \n",
    "    mydb.close() #close the connection\n",
    "except Exception as e:\n",
    "    mydb.close()\n",
    "    print(str(e))"
   ]
  },
  {
   "cell_type": "code",
   "execution_count": null,
   "id": "3953cda6",
   "metadata": {},
   "outputs": [],
   "source": [
    "#How many movies are in data set ?\n",
    "len(movies_df.index)"
   ]
  },
  {
   "cell_type": "code",
   "execution_count": null,
   "id": "4f35c94b",
   "metadata": {},
   "outputs": [],
   "source": [
    "#What is the most common genre of movie?\n",
    "movies_df['genres'].str.split('|').explode().reset_index().groupby(['genres'], as_index=False).count().nlargest(1,'index')\n"
   ]
  },
  {
   "cell_type": "code",
   "execution_count": null,
   "id": "61a99cba",
   "metadata": {},
   "outputs": [],
   "source": [
    "#What are top 10 movies with highest rate ?\n",
    "\n",
    "pd.merge(\n",
    "    ratings_df.nlargest(10,'rating'),\n",
    "    movies_df,\n",
    "    how=\"left\",\n",
    "    on=\"movieId\"\n",
    ")[[\"title\",\"rating\"]]\n"
   ]
  },
  {
   "cell_type": "code",
   "execution_count": null,
   "id": "1b5678da",
   "metadata": {},
   "outputs": [],
   "source": [
    "#What are 5 most often rating users ?\n",
    "ratings_df['userId'].value_counts()[0:5].rename_axis('user_id').reset_index(name='cnt')\n"
   ]
  },
  {
   "cell_type": "code",
   "execution_count": null,
   "id": "4b35a6dc",
   "metadata": {},
   "outputs": [],
   "source": [
    "#When was done first and last rate included in data set and what was the rated movie tittle?\n",
    "\n",
    "first = ratings_df.nlargest(1,'ts').reset_index()\n",
    "last  = ratings_df.nsmallest(1,'ts').reset_index()\n",
    "\n",
    "pd.merge(pd.concat([first, last]),\n",
    "         movies_df,\n",
    "         how=\"left\",\n",
    "        on=\"movieId\"\n",
    "        )[['title','ts']]\n",
    "\n"
   ]
  },
  {
   "cell_type": "code",
   "execution_count": null,
   "id": "7cb70675",
   "metadata": {},
   "outputs": [],
   "source": [
    "#Find all movies released in 1990\n",
    "movies_df[movies_df['title'].str.contains(\"\\(1990\\)\")]"
   ]
  }
 ],
 "metadata": {
  "kernelspec": {
   "display_name": "Python 3",
   "language": "python",
   "name": "python3"
  },
  "language_info": {
   "codemirror_mode": {
    "name": "ipython",
    "version": 3
   },
   "file_extension": ".py",
   "mimetype": "text/x-python",
   "name": "python",
   "nbconvert_exporter": "python",
   "pygments_lexer": "ipython3",
   "version": "3.9.4"
  }
 },
 "nbformat": 4,
 "nbformat_minor": 5
}
